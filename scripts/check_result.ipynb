{
 "cells": [
  {
   "cell_type": "code",
   "execution_count": 1,
   "metadata": {},
   "outputs": [
    {
     "name": "stderr",
     "output_type": "stream",
     "text": [
      "\n",
      "Attaching package: 'dplyr'\n",
      "\n",
      "\n",
      "The following objects are masked from 'package:stats':\n",
      "\n",
      "    filter, lag\n",
      "\n",
      "\n",
      "The following objects are masked from 'package:base':\n",
      "\n",
      "    intersect, setdiff, setequal, union\n",
      "\n",
      "\n",
      "Loading required package: ggpp\n",
      "\n",
      "\n",
      "Attaching package: 'ggpp'\n",
      "\n",
      "\n",
      "The following object is masked from 'package:ggplot2':\n",
      "\n",
      "    annotate\n",
      "\n",
      "\n",
      "\n",
      "Attaching package: 'MASS'\n",
      "\n",
      "\n",
      "The following object is masked from 'package:dplyr':\n",
      "\n",
      "    select\n",
      "\n",
      "\n"
     ]
    }
   ],
   "source": [
    "library(ggplot2)\n",
    "library(dplyr)\n",
    "library(ggpmisc)\n",
    "library(MASS)"
   ]
  },
  {
   "cell_type": "markdown",
   "metadata": {},
   "source": [
    "# Generate Simulation Data"
   ]
  },
  {
   "cell_type": "code",
   "execution_count": 15,
   "metadata": {},
   "outputs": [],
   "source": [
    "generate.data <- function(n, each, order = c(0,1,2), random = c(0,0,0,0)) {\n",
    "    k.g <- 1\n",
    "    k.h <- 2\n",
    "    s <- ifelse(length(each) == 1, each, length(each))\n",
    "    l <- ifelse(length(each) == 1, n*n*each, sum(each))\n",
    "    if (length(each) == 1) {\n",
    "        group <- rep(1:(n*n), each = each)\n",
    "    } else {\n",
    "        group <- rep(1:(n*n), each)\n",
    "    }\n",
    "    X <- mvrnorm(l, rep(0, k.g + k.h), diag(1, k.g + k.h, k.g + k.h))\n",
    "    for (i in 1:(n*n)) {\n",
    "        group.i <- which(group == i)\n",
    "        X[group.i,1] <- mean(X[group.i,1])\n",
    "    }\n",
    "    X <- cbind(1, X)\n",
    "    positions.data <- matrix(0, l, 2)\n",
    "    positions.beta <- matrix(0, n*n, 2)\n",
    "    for (i in 1:n) {\n",
    "        for (j in 1:n) {\n",
    "            p1 = (i - 1)*n + j\n",
    "            positions.beta[p1,] = c(i,j)\n",
    "            for (k in 1:each[p1]) {\n",
    "                p2 = ifelse(p1 > 1, sum(each[1:(p1 - 1)]) + k, k)\n",
    "                positions.data[p2,] = c(i,j)\n",
    "            }\n",
    "        }\n",
    "    }\n",
    "    beta.g <- matrix(0, n*n, k.g)\n",
    "    for (i in 1:n) {\n",
    "        for (j in 1:n) {\n",
    "            p = (i - 1)*n + j\n",
    "            beta = 0\n",
    "            order.g = order[2]\n",
    "            for (o1 in 0:order.g) {\n",
    "                for (o2 in 0:order.g) {\n",
    "                    set.seed(200 + i + j)\n",
    "                    beta = beta + i^o1 * j^o2 #rnorm(1) * i^o1 * j^o2\n",
    "                }\n",
    "            }\n",
    "            beta.g[p, 1] = 10 * beta / (n^(2*order.g))\n",
    "        }\n",
    "    }\n",
    "    beta.g[, 1] = scale(beta.g[, 1] + random[2] * rnorm(n*n, sd = 0.1))\n",
    "    beta.h <- matrix(0, n*n, k.h)\n",
    "    for (i in 1:n) {\n",
    "        for (j in 1:n) {\n",
    "            p = (i - 1)*n + j\n",
    "            beta = 0\n",
    "            order.h = order[3]\n",
    "            for (o1 in 0:order.h) {\n",
    "                for (o2 in 0:order.h) {\n",
    "                    set.seed(300 + i * n + j)\n",
    "                    beta = beta + rnorm(1) * i^o1 * j^o2\n",
    "                }\n",
    "            }\n",
    "            beta.h[p, 1] = beta / (n^(2*order.h))\n",
    "        }\n",
    "    }\n",
    "    set.seed(12)\n",
    "    beta.h[, 1] = scale(beta.h[, 1] + random[3] * rnorm(n*n, sd = 0.1))\n",
    "    set.seed(13)\n",
    "    beta.h[, 2] = 1 + random[4] * rnorm(n*n, sd = 1)\n",
    "    beta.intercept <- numeric(n*n)\n",
    "    for (i in 1:n) {\n",
    "        for (j in 1:n) {\n",
    "            p = (i - 1)*n + j\n",
    "            beta = 0\n",
    "            order.intercept = order[1]\n",
    "            for (o1 in 0:order.intercept) {\n",
    "                for (o2 in 0:order.intercept) {\n",
    "                    set.seed(100 + i + j)\n",
    "                    beta = beta + i^o1 * j^o2 #rnorm(1) * i^o1 * j^o2\n",
    "                }\n",
    "            }\n",
    "            beta.intercept[p] = beta / (n^(2*order.intercept))\n",
    "        }\n",
    "    }\n",
    "    set.seed(10)\n",
    "    beta.intercept = scale(beta.intercept + random[1] * rnorm(n*n, sd = 0.1))\n",
    "    beta <- cbind(beta.intercept, beta.g, beta.h)\n",
    "    y <- numeric(l)\n",
    "    for (i in 1:(n*n)) {\n",
    "        beta.i <- beta[i,]\n",
    "        group.i <- which(group == i)\n",
    "        X.i <- X[group.i,]\n",
    "        y[group.i] <- X.i %*% beta.i\n",
    "    }\n",
    "    y = y + rnorm(l)\n",
    "    data <- as.data.frame(cbind(group, positions.data, y, X[,-1]))\n",
    "    colnames(data) <- c(\"group\", \"lon\", \"lat\", \"y\", paste0(rep(\"g\", k.g), 1:k.g), paste0(rep(\"h\", k.h), 1:k.h))\n",
    "    beta <- as.data.frame(cbind(positions.beta, beta))\n",
    "    colnames(beta) <- c(\"lon\", \"lat\", \"Intercept\", paste0(rep(\"g\", k.g), 1:k.g), paste0(rep(\"h\", k.h), 1:k.h))\n",
    "    list(\n",
    "        data = data,\n",
    "        beta = beta\n",
    "    )\n",
    "}"
   ]
  },
  {
   "cell_type": "code",
   "execution_count": 6,
   "metadata": {},
   "outputs": [],
   "source": [
    "oi = 2\n",
    "og = 2\n",
    "oh = 2\n",
    "ri = 0\n",
    "rg = 0\n",
    "rh1 = 1\n",
    "rh2 = 0\n",
    "set.seed(100)\n",
    "gen.each <- floor(runif(15*15, min = 10, max = 50))\n",
    "gen <- generate.data(15, gen.each, order = c(oi, og, oh), random = c(ri, rg, rh1, rh2))\n",
    "data.group <- gen$data %>% group_by(group) %>% summarise(g1 = mean(g1), lon = mean(lon), lat = mean(lat)) %>% as.data.frame()"
   ]
  },
  {
   "cell_type": "code",
   "execution_count": 7,
   "metadata": {},
   "outputs": [],
   "source": [
    "write.table(gen$data[\"y\"], \"../data/hlmgwr_y.csv\", sep = \",\", row.names = F, col.names = F)\n",
    "write.table(cbind(1, gen$data[c(\"h1\")]), \"../data/hlmgwr_z.csv\", sep = \",\", row.names = F, col.names = F)\n",
    "write.table(cbind(1, gen$data[c(\"h2\")]), \"../data/hlmgwr_x.csv\", sep = \",\", row.names = F, col.names = F)\n",
    "write.table(gen$data[\"group\"] - 1, \"../data/hlmgwr_group.csv\", sep = \",\", row.names = F, col.names = F)\n",
    "write.table(data.group[c(\"lon\", \"lat\")], \"../data/hlmgwr_u.csv\", sep = \",\", row.names = F, col.names = F)\n",
    "write.table(cbind(1, data.group[\"g1\"]), \"../data/hlmgwr_g.csv\", sep = \",\", row.names = F, col.names = F)\n",
    "write.table(gen$beta, \"../data/hlmgwr_beta.csv\", sep = \",\", row.names = F, col.names = F)"
   ]
  },
  {
   "cell_type": "code",
   "execution_count": 8,
   "metadata": {},
   "outputs": [],
   "source": [
    "write.table(gen$data[\"y\"], \"../data/hlm_y.csv\", sep = \",\", row.names = F, col.names = F)\n",
    "write.table(cbind(1, gen$data[c(\"h1\", \"h2\")]), \"../data/hlm_x.csv\", sep = \",\", row.names = F, col.names = F)\n",
    "write.table(gen$data[\"group\"] - 1, \"../data/hlm_group.csv\", sep = \",\", row.names = F, col.names = F)\n",
    "write.table(data.group[c(\"lon\", \"lat\")], \"../data/hlm_u.csv\", sep = \",\", row.names = F, col.names = F)\n",
    "write.table(cbind(1, data.group[\"g1\"]), \"../data/hlm_g.csv\", sep = \",\", row.names = F, col.names = F)\n",
    "write.table(gen$beta, \"../data/hlm_beta.csv\", sep = \",\", row.names = F, col.names = F)"
   ]
  },
  {
   "cell_type": "code",
   "execution_count": 18,
   "metadata": {},
   "outputs": [
    {
     "data": {
      "text/html": [
       "0.765573832272251"
      ],
      "text/latex": [
       "0.765573832272251"
      ],
      "text/markdown": [
       "0.765573832272251"
      ],
      "text/plain": [
       "[1] 0.7655738"
      ]
     },
     "metadata": {},
     "output_type": "display_data"
    }
   ],
   "source": [
    "1 - 6472.055928 /  sum((gen$data$y - mean(gen$data$y))^2)"
   ]
  },
  {
   "cell_type": "code",
   "execution_count": 17,
   "metadata": {},
   "outputs": [
    {
     "data": {
      "text/html": [
       "1490.42664339716"
      ],
      "text/latex": [
       "1490.42664339716"
      ],
      "text/markdown": [
       "1490.42664339716"
      ],
      "text/plain": [
       "[1] 1490.427"
      ]
     },
     "metadata": {},
     "output_type": "display_data"
    },
    {
     "data": {
      "text/html": [
       "TRUE"
      ],
      "text/latex": [
       "TRUE"
      ],
      "text/markdown": [
       "TRUE"
      ],
      "text/plain": [
       "[1] TRUE"
      ]
     },
     "metadata": {},
     "output_type": "display_data"
    }
   ],
   "source": []
  },
  {
   "cell_type": "markdown",
   "metadata": {},
   "source": [
    "# Check Results"
   ]
  },
  {
   "cell_type": "code",
   "execution_count": 3,
   "metadata": {},
   "outputs": [
    {
     "data": {
      "image/png": "[encoded data removed]",
      "text/plain": [
       "plot without title"
      ]
     },
     "metadata": {
      "image/png": {
       "height": 420,
       "width": 420
      }
     },
     "output_type": "display_data"
    },
    {
     "data": {
      "image/png": "[encoded data removed]",
      "text/plain": [
       "plot without title"
      ]
     },
     "metadata": {
      "image/png": {
       "height": 420,
       "width": 420
      }
     },
     "output_type": "display_data"
    },
    {
     "data": {
      "image/png": "[encoded data removed]",
      "text/plain": [
       "plot without title"
      ]
     },
     "metadata": {
      "image/png": {
       "height": 420,
       "width": 420
      }
     },
     "output_type": "display_data"
    },
    {
     "data": {
      "image/png": "[encoded data removed]",
      "text/plain": [
       "plot without title"
      ]
     },
     "metadata": {
      "image/png": {
       "height": 420,
       "width": 420
      }
     },
     "output_type": "display_data"
    }
   ],
   "source": [
    "beta0 = read.csv(\"../data/hlmgwr_beta.csv\", header = F)\n",
    "colnames(beta0) <- c(\"u\", \"v\", \"Intercept\", \"g1\", \"h1\", \"h2\")\n",
    "beta0 %>%\n",
    "    ggplot(aes(u, v, fill = Intercept)) + \n",
    "    geom_tile() + scale_fill_distiller() + \n",
    "    coord_fixed() + \n",
    "    # facet_wrap(~Name, nrow = 1) + \n",
    "    theme_bw()\n",
    "beta0 %>%\n",
    "    ggplot(aes(u, v, fill = g1)) + \n",
    "    geom_tile() + scale_fill_distiller() + \n",
    "    coord_fixed() + \n",
    "    # facet_wrap(~Name, nrow = 1) + \n",
    "    theme_bw()\n",
    "beta0 %>%\n",
    "    ggplot(aes(u, v, fill = h1)) + \n",
    "    geom_tile() + scale_fill_distiller() + \n",
    "    coord_fixed() + \n",
    "    # facet_wrap(~Name, nrow = 1) + \n",
    "    theme_bw()\n",
    "beta0 %>%\n",
    "    ggplot(aes(u, v, fill = h2)) + \n",
    "    geom_tile() + scale_fill_distiller() + \n",
    "    coord_fixed() + \n",
    "    # facet_wrap(~Name, nrow = 1) + \n",
    "    theme_bw()"
   ]
  },
  {
   "cell_type": "markdown",
   "metadata": {},
   "source": [
    "## HLM"
   ]
  },
  {
   "cell_type": "code",
   "execution_count": 19,
   "metadata": {},
   "outputs": [
    {
     "data": {
      "text/plain": [
       "\u001b[34m# R2 for Mixed Models\n",
       "\n",
       "\u001b[39m  Conditional R2: 0.741\n",
       "     Marginal R2: 0.236"
      ]
     },
     "metadata": {},
     "output_type": "display_data"
    },
    {
     "data": {
      "image/png": "[encoded data removed]",
      "text/plain": [
       "plot without title"
      ]
     },
     "metadata": {
      "image/png": {
       "height": 420,
       "width": 420
      }
     },
     "output_type": "display_data"
    },
    {
     "data": {
      "image/png": "[encoded data removed]",
      "text/plain": [
       "plot without title"
      ]
     },
     "metadata": {
      "image/png": {
       "height": 420,
       "width": 420
      }
     },
     "output_type": "display_data"
    },
    {
     "data": {
      "image/png": "[encoded data removed]",
      "text/plain": [
       "plot without title"
      ]
     },
     "metadata": {
      "image/png": {
       "height": 420,
       "width": 420
      }
     },
     "output_type": "display_data"
    }
   ],
   "source": [
    "data.group <- read.csv(\"../data/hlm_group.csv\", header = F)[[1]] + 1\n",
    "hlm_data = cbind(\n",
    "    read.csv(\"../data/hlm_y.csv\", header = F),\n",
    "    read.csv(\"../data/hlm_g.csv\", header = F)[data.group,-1],\n",
    "    read.csv(\"../data/hlm_x.csv\", header = F)[,-1],\n",
    "    data.group\n",
    ")\n",
    "colnames(hlm_data) <- c(\"y\", \"g1\", \"h1\", \"h2\", \"group\")\n",
    "hlm_model <- lmerTest::lmer(y ~ g1 + h1 + h2 + (g1 + h1 | group), hlm_data)\n",
    "# summary(hlm_model)\n",
    "performance::r2(hlm_model)\n",
    "hlm_beta <- coefficients(hlm_model)$group\n",
    "data.frame(Ground.Truth = beta0$Intercept, Estimation = hlm_beta[[\"(Intercept)\"]]) %>%\n",
    "    ggplot(aes(Ground.Truth, Estimation)) +\n",
    "    geom_point() +\n",
    "    stat_poly_eq(aes(label = paste(..adj.rr.label..)), formula = y ~ x, parse = T) +\n",
    "    # coord_fixed() + \n",
    "    labs(title = \"Intercept\") +\n",
    "    theme_bw()\n",
    "data.frame(Ground.Truth = beta0$g1, Estimation = hlm_beta$g1) %>%\n",
    "    ggplot(aes(Ground.Truth, Estimation)) +\n",
    "    geom_point() +\n",
    "    stat_poly_eq(aes(label = paste(..adj.rr.label..)), formula = y ~ x, parse = T) +\n",
    "    # coord_fixed() + \n",
    "    labs(title = \"g1\") +\n",
    "    theme_bw()\n",
    "data.frame(Ground.Truth = beta0$h1, Estimation = hlm_beta$h1) %>%\n",
    "    ggplot(aes(Ground.Truth, Estimation)) +\n",
    "    geom_point() +\n",
    "    stat_poly_eq(aes(label = paste(..adj.rr.label..)), formula = y ~ x, parse = T) +\n",
    "    # coord_fixed() + \n",
    "    labs(title = \"h1\") +\n",
    "    theme_bw()"
   ]
  },
  {
   "cell_type": "markdown",
   "metadata": {},
   "source": [
    "## HLMGWR"
   ]
  },
  {
   "cell_type": "code",
   "execution_count": 119,
   "metadata": {},
   "outputs": [
    {
     "data": {
      "image/png": "[encoded data removed]",
      "text/plain": [
       "plot without title"
      ]
     },
     "metadata": {
      "image/png": {
       "height": 420,
       "width": 420
      }
     },
     "output_type": "display_data"
    },
    {
     "data": {
      "image/png": "[encoded data removed]",
      "text/plain": [
       "plot without title"
      ]
     },
     "metadata": {
      "image/png": {
       "height": 420,
       "width": 420
      }
     },
     "output_type": "display_data"
    },
    {
     "data": {
      "image/png": "[encoded data removed]",
      "text/plain": [
       "plot without title"
      ]
     },
     "metadata": {
      "image/png": {
       "height": 420,
       "width": 420
      }
     },
     "output_type": "display_data"
    }
   ],
   "source": [
    "hlmgwr_beta = read.csv(\"../data/hlmgwr_beta_hat.csv\", header = F)\n",
    "colnames(hlmgwr_beta) <- c(\"Intercept\", \"g1\", \"h1\", \"h2\")\n",
    "data.frame(Ground.Truth = beta0$Intercept, Estimation = hlmgwr_beta$Intercept) %>%\n",
    "    ggplot(aes(Ground.Truth, Estimation)) +\n",
    "    geom_point() +\n",
    "    stat_poly_eq(aes(label = paste(..adj.rr.label..)), formula = y ~ x, parse = T) +\n",
    "    # coord_fixed() + \n",
    "    labs(title = \"Intercept\") +\n",
    "    theme_bw()\n",
    "data.frame(Ground.Truth = beta0$g1, Estimation = hlmgwr_beta$g1) %>%\n",
    "    ggplot(aes(Ground.Truth, Estimation)) +\n",
    "    geom_point() +\n",
    "    stat_poly_eq(aes(label = paste(..adj.rr.label..)), formula = y ~ x, parse = T) +\n",
    "    # coord_fixed() + \n",
    "    labs(title = \"g1\") +\n",
    "    theme_bw()\n",
    "data.frame(Ground.Truth = beta0$h1, Estimation = hlmgwr_beta$h1) %>%\n",
    "    ggplot(aes(Ground.Truth, Estimation)) +\n",
    "    geom_point() +\n",
    "    stat_poly_eq(aes(label = paste(..adj.rr.label..)), formula = y ~ x, parse = T) +\n",
    "    # coord_fixed() + \n",
    "    labs(title = \"h1\") +\n",
    "    theme_bw()"
   ]
  },
  {
   "cell_type": "code",
   "execution_count": 120,
   "metadata": {},
   "outputs": [
    {
     "data": {
      "text/html": [
       "<table class=\"dataframe\">\n",
       "<caption>A data.frame: 4 × 2</caption>\n",
       "<thead>\n",
       "\t<tr><th></th><th scope=col>HLM</th><th scope=col>HLMGWR</th></tr>\n",
       "\t<tr><th></th><th scope=col>&lt;dbl&gt;</th><th scope=col>&lt;dbl&gt;</th></tr>\n",
       "</thead>\n",
       "<tbody>\n",
       "\t<tr><th scope=row>Intercept</th><td>0.19899776</td><td>0.19880810</td></tr>\n",
       "\t<tr><th scope=row>g1</th><td>0.68177194</td><td>0.39862616</td></tr>\n",
       "\t<tr><th scope=row>h1</th><td>0.16711296</td><td>0.18566817</td></tr>\n",
       "\t<tr><th scope=row>h2</th><td>0.02986486</td><td>0.03677926</td></tr>\n",
       "</tbody>\n",
       "</table>\n"
      ],
      "text/latex": [
       "A data.frame: 4 × 2\n",
       "\\begin{tabular}{r|ll}\n",
       "  & HLM & HLMGWR\\\\\n",
       "  & <dbl> & <dbl>\\\\\n",
       "\\hline\n",
       "\tIntercept & 0.19899776 & 0.19880810\\\\\n",
       "\tg1 & 0.68177194 & 0.39862616\\\\\n",
       "\th1 & 0.16711296 & 0.18566817\\\\\n",
       "\th2 & 0.02986486 & 0.03677926\\\\\n",
       "\\end{tabular}\n"
      ],
      "text/markdown": [
       "\n",
       "A data.frame: 4 × 2\n",
       "\n",
       "| <!--/--> | HLM &lt;dbl&gt; | HLMGWR &lt;dbl&gt; |\n",
       "|---|---|---|\n",
       "| Intercept | 0.19899776 | 0.19880810 |\n",
       "| g1 | 0.68177194 | 0.39862616 |\n",
       "| h1 | 0.16711296 | 0.18566817 |\n",
       "| h2 | 0.02986486 | 0.03677926 |\n",
       "\n"
      ],
      "text/plain": [
       "          HLM        HLMGWR    \n",
       "Intercept 0.19899776 0.19880810\n",
       "g1        0.68177194 0.39862616\n",
       "h1        0.16711296 0.18566817\n",
       "h2        0.02986486 0.03677926"
      ]
     },
     "metadata": {},
     "output_type": "display_data"
    }
   ],
   "source": [
    "data.frame(\n",
    "    HLM = c(mean(abs(beta0$Intercept - hlm_beta[[\"(Intercept)\"]])),\n",
    "            mean(abs(beta0$g1 - hlm_beta$g1)),\n",
    "            mean(abs(beta0$h1 - hlm_beta$h1)),\n",
    "            mean(abs(beta0$h2 - hlm_beta$h2))),\n",
    "    HLMGWR = c(mean(abs(beta0$Intercept - hlmgwr_beta$Intercept)),\n",
    "               mean(abs(beta0$g1 - hlmgwr_beta$g1)),\n",
    "               mean(abs(beta0$h1 - hlmgwr_beta$h1)),\n",
    "               mean(abs(beta0$h2 - hlmgwr_beta$h2))),\n",
    "    row.names = c(\"Intercept\", \"g1\", \"h1\", \"h2\")\n",
    ")"
   ]
  },
  {
   "cell_type": "code",
   "execution_count": null,
   "metadata": {},
   "outputs": [],
   "source": []
  }
 ],
 "metadata": {
  "kernelspec": {
   "display_name": "R",
   "language": "R",
   "name": "ir"
  },
  "language_info": {
   "codemirror_mode": "r",
   "file_extension": ".r",
   "mimetype": "text/x-r-source",
   "name": "R",
   "pygments_lexer": "r",
   "version": "4.1.1"
  },
  "orig_nbformat": 4
 },
 "nbformat": 4,
 "nbformat_minor": 2
}
